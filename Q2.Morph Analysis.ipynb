{
 "cells": [
  {
   "cell_type": "code",
   "execution_count": 11,
   "id": "ac901aee",
   "metadata": {},
   "outputs": [],
   "source": [
    "import re\n",
    "morph_rules = [\n",
    "    (r'(.*)s$', lambda root: f'{root}+N+Pl'),\n",
    "    (r'(.*)ed$', lambda root: f'{root}+Verb+Past'),\n",
    "    (r'(.*)ing$', lambda root: f'{root}+Verb+Progressive'),\n",
    "    (r'(.*)ly$', lambda root: f'{root}+Adverbs'),\n",
    "    (r'(.*)er$', lambda root: f'{root}+N+Comp'),\n",
    "    (r'(.*)est$', lambda root: f'{root}+N+Sup'),\n",
    "]\n",
    "\n",
    "default_rule = lambda word: f'{word}+base'\n",
    "def morphological_parse(word):\n",
    "     for pattern, action in morph_rules:\n",
    "         match = re.match(pattern, word)\n",
    "         if match:\n",
    "             root = match.group(1)\n",
    "             return f'word-{action(root)}'\n",
    "     return f'{word}-{default_rule(word)}'"
   ]
  },
  {
   "cell_type": "code",
   "execution_count": 12,
   "id": "b8418d4b",
   "metadata": {},
   "outputs": [
    {
     "name": "stdout",
     "output_type": "stream",
     "text": [
      "word-cat+N+Pl\n",
      "caught-caught+base\n",
      "word-catch+Verb+Progressive\n",
      "word-fast+N+Comp\n",
      "word-fast+N+Sup\n",
      "word-quick+Adverbs\n"
     ]
    }
   ],
   "source": [
    "test_words = ['cats', 'caught', 'catching','faster','fastest','quickly']\n",
    "for word in test_words:\n",
    "    print(morphological_parse(word))"
   ]
  },
  {
   "cell_type": "code",
   "execution_count": null,
   "id": "e685806e",
   "metadata": {},
   "outputs": [],
   "source": []
  }
 ],
 "metadata": {
  "kernelspec": {
   "display_name": "Python 3 (ipykernel)",
   "language": "python",
   "name": "python3"
  },
  "language_info": {
   "codemirror_mode": {
    "name": "ipython",
    "version": 3
   },
   "file_extension": ".py",
   "mimetype": "text/x-python",
   "name": "python",
   "nbconvert_exporter": "python",
   "pygments_lexer": "ipython3",
   "version": "3.11.5"
  }
 },
 "nbformat": 4,
 "nbformat_minor": 5
}
