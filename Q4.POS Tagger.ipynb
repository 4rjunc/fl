{
 "cells": [
  {
   "cell_type": "code",
   "execution_count": 1,
   "id": "3bde13be",
   "metadata": {},
   "outputs": [],
   "source": [
    "import nltk"
   ]
  },
  {
   "cell_type": "code",
   "execution_count": 2,
   "id": "936f1786",
   "metadata": {},
   "outputs": [],
   "source": [
    "nltk.data.path.append(\"./nltkdata\")\n",
    "def pos_tagging(sentence):\n",
    "    tokens = nltk.word_tokenize(sentence)\n",
    "    print(tokens)\n",
    "    pos_tags = nltk.pos_tag(tokens)\n",
    "    print(pos_tags)"
   ]
  },
  {
   "cell_type": "code",
   "execution_count": null,
   "id": "81f90da8",
   "metadata": {},
   "outputs": [],
   "source": [
    "user_input = input(\"Enter the sentence to tag\")\n",
    "pos_tagging(user_input)"
   ]
  }
 ],
 "metadata": {
  "kernelspec": {
   "display_name": "Python 3 (ipykernel)",
   "language": "python",
   "name": "python3"
  },
  "language_info": {
   "codemirror_mode": {
    "name": "ipython",
    "version": 3
   },
   "file_extension": ".py",
   "mimetype": "text/x-python",
   "name": "python",
   "nbconvert_exporter": "python",
   "pygments_lexer": "ipython3",
   "version": "3.11.5"
  }
 },
 "nbformat": 4,
 "nbformat_minor": 5
}
