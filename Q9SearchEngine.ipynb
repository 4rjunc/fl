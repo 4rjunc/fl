{
 "cells": [
  {
   "cell_type": "code",
   "execution_count": 1,
   "id": "594d2419",
   "metadata": {},
   "outputs": [
    {
     "name": "stdout",
     "output_type": "stream",
     "text": [
      "Search Results for query: quick fox\n",
      "1. The quick brown fox jumps over the lazy dog (Score: 0.4337)\n",
      "2. A fox is quick and it is jumping over a lazy dog (Score: 0.3554)\n",
      "3. Foxes are very quick and agile animals (Score: 0.1732)\n"
     ]
    }
   ],
   "source": [
    "from sklearn.feature_extraction.text import TfidfVectorizer\n",
    "from sklearn.metrics.pairwise import cosine_similarity\n",
    "\n",
    "# Step 1: Define a set of documents\n",
    "documents = [\n",
    "    \"The quick brown fox jumps over the lazy dog\",\n",
    "    \"Never jump over the lazy dog quickly\",\n",
    "    \"A fox is quick and it is jumping over a lazy dog\",\n",
    "    \"The lazy dog does not jump over anything\",\n",
    "    \"Foxes are very quick and agile animals\"\n",
    "]\n",
    "\n",
    "# Step 2: Index the documents using TF-IDF\n",
    "vectorizer = TfidfVectorizer()\n",
    "tfidf_matrix = vectorizer.fit_transform(documents)\n",
    "\n",
    "# Step 3: Define a function to retrieve relevant documents based on a query\n",
    "def search(query, top_n=3):\n",
    "    # Convert the query into a TF-IDF vector\n",
    "    query_vec = vectorizer.transform([query])\n",
    "    \n",
    "    # Compute cosine similarity between the query and all documents\n",
    "    similarity_scores = cosine_similarity(query_vec, tfidf_matrix).flatten()\n",
    "    \n",
    "    # Get the indices of the top N relevant documents\n",
    "    top_indices = similarity_scores.argsort()[-top_n:][::-1]\n",
    "    \n",
    "    # Return the top N documents and their scores\n",
    "    results = [(documents[i], similarity_scores[i]) for i in top_indices]\n",
    "    return results\n",
    "\n",
    "# Step 4: Test the search engine\n",
    "query = \"quick fox\"\n",
    "results = search(query)\n",
    "print(\"Search Results for query:\", query)\n",
    "for rank, (doc, score) in enumerate(results, start=1):\n",
    "    print(f\"{rank}. {doc} (Score: {score:.4f})\")\n"
   ]
  },
  {
   "cell_type": "code",
   "execution_count": null,
   "id": "55c34470",
   "metadata": {},
   "outputs": [],
   "source": []
  }
 ],
 "metadata": {
  "kernelspec": {
   "display_name": "Python 3 (ipykernel)",
   "language": "python",
   "name": "python3"
  },
  "language_info": {
   "codemirror_mode": {
    "name": "ipython",
    "version": 3
   },
   "file_extension": ".py",
   "mimetype": "text/x-python",
   "name": "python",
   "nbconvert_exporter": "python",
   "pygments_lexer": "ipython3",
   "version": "3.11.5"
  }
 },
 "nbformat": 4,
 "nbformat_minor": 5
}
