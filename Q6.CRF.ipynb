{
 "cells": [
  {
   "cell_type": "code",
   "execution_count": null,
   "id": "1adac252",
   "metadata": {},
   "outputs": [],
   "source": [
    "import nltk\n",
    "from nltk.tag import CRFTagger\n",
    "from nltk.corpus import treebank\n",
    "nltk.data.path.append(\"ntlkdata\")\n",
    "\n",
    "data = treebank.tagged_sents()\n",
    "train_data = data[:3000]\n",
    "test_data = data[3000:]\n",
    "\n",
    "ct = CRTagger()\n",
    "ct.train(train_data, \"crf_tagger_model.crf.tagger\")\n",
    "accuracy = ct.evaluate(test_data)\n",
    "print()"
   ]
  }
 ],
 "metadata": {
  "kernelspec": {
   "display_name": "Python 3 (ipykernel)",
   "language": "python",
   "name": "python3"
  },
  "language_info": {
   "codemirror_mode": {
    "name": "ipython",
    "version": 3
   },
   "file_extension": ".py",
   "mimetype": "text/x-python",
   "name": "python",
   "nbconvert_exporter": "python",
   "pygments_lexer": "ipython3",
   "version": "3.11.5"
  }
 },
 "nbformat": 4,
 "nbformat_minor": 5
}
