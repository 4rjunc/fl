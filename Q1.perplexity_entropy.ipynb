{
 "cells": [
  {
   "cell_type": "code",
   "execution_count": 4,
   "id": "71f0bc58",
   "metadata": {},
   "outputs": [],
   "source": [
    "import math\n",
    "from collections import Counter\n",
    "from nltk.util import ngrams"
   ]
  },
  {
   "cell_type": "code",
   "execution_count": 9,
   "id": "098ff489",
   "metadata": {},
   "outputs": [
    {
     "name": "stdout",
     "output_type": "stream",
     "text": [
      "cal_entropy: 2.8453509366224368\n"
     ]
    }
   ],
   "source": [
    "def cal_entropy(text, total):\n",
    "    entropy = 0\n",
    "    char_count = Counter(text)\n",
    "    for count in char_count.values():\n",
    "        prob = count/total\n",
    "        entropy += -prob * math.log2(prob)\n",
    "    return entropy\n",
    "\n",
    "text = \"hello world\"\n",
    "total = len(text)\n",
    "print(\"cal_entropy:\", cal_entropy(text, total))"
   ]
  },
  {
   "cell_type": "code",
   "execution_count": 10,
   "id": "2c039808",
   "metadata": {},
   "outputs": [],
   "source": [
    "def perpexity1(text, total):\n",
    "    return pow(2, cal_entropy(text, total))"
   ]
  },
  {
   "cell_type": "code",
   "execution_count": 11,
   "id": "a136df62",
   "metadata": {},
   "outputs": [
    {
     "name": "stdout",
     "output_type": "stream",
     "text": [
      "perplexity: 7.186806966507558\n"
     ]
    }
   ],
   "source": [
    "print(\"perplexity:\", perpexity1(text, total))"
   ]
  },
  {
   "cell_type": "code",
   "execution_count": null,
   "id": "109590c0",
   "metadata": {},
   "outputs": [],
   "source": []
  }
 ],
 "metadata": {
  "kernelspec": {
   "display_name": "Python 3 (ipykernel)",
   "language": "python",
   "name": "python3"
  },
  "language_info": {
   "codemirror_mode": {
    "name": "ipython",
    "version": 3
   },
   "file_extension": ".py",
   "mimetype": "text/x-python",
   "name": "python",
   "nbconvert_exporter": "python",
   "pygments_lexer": "ipython3",
   "version": "3.11.5"
  }
 },
 "nbformat": 4,
 "nbformat_minor": 5
}
